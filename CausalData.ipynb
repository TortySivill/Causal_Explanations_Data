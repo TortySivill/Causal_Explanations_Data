{
 "cells": [
  {
   "cell_type": "code",
   "execution_count": 168,
   "metadata": {},
   "outputs": [
    {
     "name": "stderr",
     "output_type": "stream",
     "text": [
      "20-Jul-21 19:18:14 fatf         INFO     Seeding RNGs using the input parameter.\n",
      "20-Jul-21 19:18:14 fatf         INFO     Seeding RNGs with 42.\n"
     ]
    }
   ],
   "source": [
    "from numpy.random import normal\n",
    "from numpy import asarray, vstack, concatenate\n",
    "from numpy import mean\n",
    "from sklearn import svm, metrics\n",
    "from sklearn.model_selection import train_test_split\n",
    "\n",
    "import pandas as pd\n",
    "import random\n",
    "\n",
    "import shap\n",
    "from sklearn.ensemble import RandomForestRegressor\n",
    "\n",
    "\n",
    "import fatf\n",
    "fatf.setup_random_seed(42)\n",
    "import fatf.transparency.predictions.surrogate_explainers as surrogates\n",
    "import fatf.vis.lime as fatf_vis_lime"
   ]
  },
  {
   "cell_type": "markdown",
   "metadata": {},
   "source": [
    "# Understanding the causal structures in our data and how it affects interpretability "
   ]
  },
  {
   "cell_type": "markdown",
   "metadata": {},
   "source": [
    "In explainable AI there has been some serious debate recently as to whether you can have explainability without casusality. Unfortunately, the true cuasal graph of a real world system is unknown. When we take observations surrounding a system we have limited intuition as to how each variable interacts. This uncertainty is exacerbated when bulding predictive models.\n",
    "\n",
    "Predictictive machine learning exploits and selects patterns in observational data to predict a target variable. A machine learning model therefore does not care if a variable is causally related to an outcome, it merely exploits the correlations in the data to optimise performance in some way. \n",
    "\n",
    "The problem arises when these correlation based models are interpreted in a causal way. Below we exemplify the assumptions made by machine learning predictive models and how the parameters cannot be interpreted in causal way.\n",
    "\n",
    "Similary, many explainable AI techniques particularly those concerned with feature importance, exploit correlations in the data and machine learning model to output explanations in the form: \"feature X was more important than feature Y in causing outcome X\". This is a huge problem, firstly as the word 'explanation' implies some form of causal reasoning when in reality nothing of the sort has been  done. Secondly, correlations are extremely sensitive to the model setup therefore any associated interpretations of the model's behaviour are also highly sensitive and lack robustness. \n",
    "\n",
    "Below we explore the effects of the assumptions implicity made by ''interpretable'' machine learning models and interpretability techniques such as SHAP and show how these result in interpretations that do not account for complex dependency behaviour in the underlying data and associated model. \n",
    "\n",
    "This part of my research is therefore concerned with identifying causal structures in observational data and understanding how these can be used to create interpretable predictive models. Obviously this is a massive challenge so we're starting small with a deepdive into the problems facing correlation based explainable AI and how causal discovery algorithms may aid robustness."
   ]
  },
  {
   "cell_type": "markdown",
   "metadata": {},
   "source": [
    "## A brief introduction to causal data structures"
   ]
  },
  {
   "cell_type": "markdown",
   "metadata": {},
   "source": [
    "In the mid 1980s a group from UCLA decided that it was beneficial to think about the uncertainty of a system in terms of the conditional dependencies of the components of that system.\n",
    "\n",
    "For example consider you have a dodgy car that could only break down thanks to either running out of fuel or a flat battery. Imagine that you wake up one morning to find your car unable to start, you have no idea if you have a flat battery or if you have run out of fuel! Now imagine the same scenario but you filled your car up with petrol the night before. Now, given the fact you know your car is full of fuel you are certain that your car has broken down thanks to a flat battery. \n",
    "\n",
    "By applying this line of thinking to an AI systems with multiple components, we can use the conditional dependencies between them to encode our uncertainty in the overall system. "
   ]
  },
  {
   "cell_type": "markdown",
   "metadata": {},
   "source": [
    "### D-separation\n",
    "\n",
    "D-separation is the algorithm composed by Pearl et al. that computes all the conditional independencies between the components of a system, capable of being expressed graphically as a Directed Acyclic Graph or DAG (for a primer on these graphs, see Chapter 6.1 from \"Elements of Causal Inference\". PDF available at https://library.oapen.org/bitstream/id/056a11be-ce3a-44b9-8987-a6c68fce8d9b/11283.pdf. \n",
    "\n",
    "If two variables are d-separated thanks to a set of variables $Z$, then they are independent conditional on $Z$ in <b> all </b> probability distributions that are capable of being enatiled from that DAG. Intuitively, two variables $X$ and $Y$ are independent conditional on $Z$ if knowing knowledge of $Y$ tells you nothing extra about $Z$ after knowing $X$. In relation to our dodgy car scenario outlined above:\n",
    "    <ul>\n",
    "    <li> $X:$ Car battery being flat </li>\n",
    "    <li> $Y:$ No fuel in tank </li>\n",
    "    <li> $Z:$ Car won't start </li>\n",
    "        </ul>\n",
    "\n",
    "Now, clearly, $X$ and $Y$ are <b> NOT </b> independent given $Z$ seeing as if we know that the car wont start and that our tank is full, we know that the car battery must be flat. In other words, knoweldge about $Y$ gives us extra information about $X$ now that we know $Z$.\n",
    "\n",
    "This is a very trivial example with only 3 variables. However, in real systems we are likely to have a much larger number of components with complex dependency relationships. The d-separation algorithm, therefore encapsulates all the possible dependency relationships between two variables in an efficient way. \n",
    "\n",
    "There is a dependency between two variables if there exists a path between them that carries information, aka an active path. Its possible that in real systems there would be a large numebr of paths between two variables, however $X$ and $Y$ share a dependency if there is <b> any </b> active path between them. \n",
    "\n",
    "A path is active if <b> every </b> vertex on that graph is active relative to a set of vertices. The following ideas are best understood via an example, so, if we take $X$, $Y$ and $Z$ from above, consider all the possible paths from $X$ to $Y$ via an intermediate $Z$\n",
    "    <ul>\n",
    "    <li>1. $X \\rightarrow Z \\rightarrow Y$ </li>\n",
    "    <li>2.  $X \\leftarrow Z \\rightarrow Y$ </li>\n",
    "    <li>3.  $X \\rightarrow Z \\leftarrow Y$ (common cause) </li>\n",
    "    <li>4.  $X \\rightarrow Z \\leftarrow Y$ (common effect) </li>\n",
    "    </ul>\n",
    "        \n",
    "  \n",
    "Now, we want to know whether there is any flow of dependecy from $X$ to $Y$ relative to a set of variables. As stated before, if there exists one active path between $X$ and $Y$ given a set of variables $Z*$ then $X$ and $Y$ are not d-sepearated, they are d-connected. Therefore, if there do not exist any active paths between $X$ and $Y$ then the two variables have no flow of dependency and are d-separated (independent). \n",
    "\n",
    "For simplicity, let's first consider the empty set of vertices such that $Z* = \\{\\}$. \n",
    "\n",
    "The first 3 paths in the example above are active, i.e. without knowing $Z$, knowing $X$ tells us more about $Y$ (or vice versa). The 4th path in the example above is an inactive path as knowing $X$ tells us nothing about $Y$. This type of path is also called a <b> collider </b>. \n",
    "\n",
    "It follows that when the conditioning set is empty ($Z* = \\{\\}$). X and Y are dependent if there are any paths between them that have no colliders. \n",
    "\n",
    "Now lets consider the same example but include Z within the conditioning set, $Z* = \\{Z\\}$. \n",
    "\n",
    "The first 3 paths in the exmaple above are now inactive as knowing about $X$ after we learn about $Z$ tells us nothing about $Y$ (or vice versa). \n",
    "The 4th path, however, is now active as knowing $X$ after knowing Z tells us about $Y$ (think through the dodgy car example again if confused). \n",
    "\n",
    "By conditioning on a collider, we activate the path between two variables. Furthermore, conditioning on the descendent of a collider also activates the path. \n",
    "\n",
    "The algorithm for d-separation increases in complexity as we add vertices to the graph. However, if we find two variables that are d-separated given a set of vertices, Pearl et al. showed that these two variables, will be conditionally independent in any probability distribution entailed by the graph. \n",
    "\n",
    "This is an extremely desirable property as we can use this knowledge to infer the causal mechanisms of a system. "
   ]
  },
  {
   "cell_type": "markdown",
   "metadata": {},
   "source": [
    "## How well do state-of-the-art interpretability methods deal with causal structures in data?\n",
    "\n",
    "As a framework for feature importance, Shapley values ignore all causal structure between variables. Frye et al. attempt to incrporate causal reasoning into the SHAP framework by relaxing the symmetry property. This research attempts to look at the type of causal relationship, how SHAP deals with feature importance for each of these and what we may expect out of an explanation for each causal relationship. "
   ]
  },
  {
   "cell_type": "markdown",
   "metadata": {},
   "source": [
    "### Shapley Values for local explaantions\n",
    "\n",
    "A team of $N$ players work collaboratively to achieve an amount of value $v(N)$. The Shapley value for each player, $\\phi_{v}(i)$ computes the amount of contribtion player $i$ has towards goal $V(N)$:\n",
    "    $$ \\phi_{v}(i) = \\sum_{S \\subseteq N \\backslash i}\\frac{s!(n-s-1)!}{n!}[v(S \\cup i) - v(S)] $$\n",
    "\n",
    "Intuitively, this definition captures the idea that $\\phi_{v}(i)$ measures the marginal contribution that player $i$ makes upon joining the team, averaged over all orders in which the team can be formed.\n",
    "\n",
    "Converting the above idea into a framework for measuring feature importance was introduced in \n",
    "\n",
    "The central challenge is to define the behaviour of the function $v$ for the predictive model when applied to subgroups of features. This can be done in the following way:\n",
    "\n",
    "$$ vf_{y}(S) = \\mathbb{E}_p(x')[f_{y}(x_{S} \\sqcup x'_{\\bar{S}}] $$\n",
    "\n",
    "where function $vf$ predicts labels $y$ for a subset of feature vectors $S$. The expectation is taken over $p(x')$ - the probablity distribution of the set of samples. The union $ X_{S} \\sqcup X'_{\\bar{S}} $ reflects the joining of the within subgroup features from $x$ with the out of subgroup features from $x'$. This definition is problematic as it ignores all covariance structure between features. "
   ]
  },
  {
   "cell_type": "markdown",
   "metadata": {},
   "source": [
    "## Types of Causal structure\n",
    "\n",
    "The four different causal relationships between two variables $X$ and $Y$ and intermediate variable $Z$ are defined as:\n",
    " <ul>\n",
    "    <li>1. $X \\rightarrow Z \\rightarrow Y$ </li>\n",
    "    <li>2.  $X \\leftarrow Z \\rightarrow Y$ </li>\n",
    "    <li>3.  $X \\rightarrow Z \\leftarrow Y$ (common cause) </li>\n",
    "    <li>4.  $X \\rightarrow Z \\leftarrow Y$ (common effect) </li>\n",
    " </ul>\n",
    " \n",
    "Below we create simple synthetic datasets representing each of the above causal relations. We then use SHAP to generate feature importance explanations both globally and locally to explore how SHAP generates explanations for predictions with different causal mechanisms in the underlying data. "
   ]
  },
  {
   "cell_type": "markdown",
   "metadata": {},
   "source": [
    "### 1) Causal Structure: X -> Z -> Y"
   ]
  },
  {
   "cell_type": "code",
   "execution_count": 169,
   "metadata": {},
   "outputs": [
    {
     "name": "stderr",
     "output_type": "stream",
     "text": [
      "Setting feature_perturbation = \"tree_path_dependent\" because no background data was given.\n"
     ]
    },
    {
     "data": {
      "image/png": "[encoded data removed]",
      "text/plain": [
       "<Figure size 576x165.6 with 1 Axes>"
      ]
     },
     "metadata": {},
     "output_type": "display_data"
    }
   ],
   "source": [
    "df_feature = pd.DataFrame()\n",
    "df_feature['X'] = asarray([normal(0,10) for x in range(0,100)])\n",
    "df_feature['Z'] = asarray([normal(0,1) for x in range(0,100)]) + df_feature['X']\n",
    "Y = asarray([1 if x > mean(df_feature['Z']) else 0 for x in df_feature['Z']])\n",
    "data = df_feature.values\n",
    "\n",
    "X_train, X_test, y_train, y_test = train_test_split(data, Y, test_size=0.1, random_state=42)\n",
    "model = RandomForestRegressor(max_depth=6, random_state=0, n_estimators=10)\n",
    "model.fit(X_train, y_train)\n",
    "shap_values = shap.TreeExplainer(model).shap_values(X_train)\n",
    "shap.summary_plot(shap_values, X_train, feature_names=['X','Z'], plot_type=\"bar\")"
   ]
  },
  {
   "cell_type": "markdown",
   "metadata": {},
   "source": [
    "### 2) Causal Structure: X <- Z <- Y"
   ]
  },
  {
   "cell_type": "code",
   "execution_count": 170,
   "metadata": {},
   "outputs": [
    {
     "name": "stderr",
     "output_type": "stream",
     "text": [
      "Setting feature_perturbation = \"tree_path_dependent\" because no background data was given.\n"
     ]
    },
    {
     "data": {
      "image/png": "[encoded data removed]",
      "text/plain": [
       "<Figure size 576x165.6 with 1 Axes>"
      ]
     },
     "metadata": {},
     "output_type": "display_data"
    }
   ],
   "source": [
    "df_feature = pd.DataFrame()\n",
    "Y = asarray([random.randint(0,1) for x in range(0,100)])\n",
    "df_feature['Z'] = asarray([normal(0,1) for x in range(0,100)]) + Y\n",
    "df_feature['X'] = asarray([1 if x > mean(df_feature['Z']) else 0 for x in df_feature['Z']])\n",
    "data = df_feature.values\n",
    "\n",
    "X_train, X_test, y_train, y_test = train_test_split(data, Y, test_size=0.1, random_state=42)\n",
    "model = RandomForestRegressor(max_depth=6, random_state=0, n_estimators=10)\n",
    "model.fit(X_train, y_train)\n",
    "shap_values = shap.TreeExplainer(model).shap_values(X_train)\n",
    "shap.summary_plot(shap_values, X_train, feature_names=['Z','X'], plot_type=\"bar\")"
   ]
  },
  {
   "cell_type": "code",
   "execution_count": 171,
   "metadata": {},
   "outputs": [],
   "source": [
    "### 3) Causal Structure: X -> Z <- Y"
   ]
  },
  {
   "cell_type": "code",
   "execution_count": 172,
   "metadata": {},
   "outputs": [
    {
     "name": "stderr",
     "output_type": "stream",
     "text": [
      "Setting feature_perturbation = \"tree_path_dependent\" because no background data was given.\n"
     ]
    },
    {
     "data": {
      "image/png": "[encoded data removed]",
      "text/plain": [
       "<Figure size 576x165.6 with 1 Axes>"
      ]
     },
     "metadata": {},
     "output_type": "display_data"
    }
   ],
   "source": [
    "df_feature = pd.DataFrame()\n",
    "\n",
    "Y = asarray([random.randint(0,10) for x in range(0,100)])\n",
    "df_feature['X'] = asarray([normal(0,1) for x in range(0,100)])\n",
    "df_feature['Z'] = asarray([1 if ( x > mean(df_feature['X']) or x > mean(Y)) else 0 for x in df_feature['X']])\n",
    "data = df_feature.values\n",
    "\n",
    "X_train, X_test, y_train, y_test = train_test_split(data, Y, test_size=0.1, random_state=42)\n",
    "model = RandomForestRegressor(max_depth=6, random_state=0, n_estimators=10)\n",
    "model.fit(X_train, y_train)\n",
    "shap_values = shap.TreeExplainer(model).shap_values(X_train)\n",
    "shap.summary_plot(shap_values, X_train, feature_names=['X','Z'], plot_type=\"bar\")"
   ]
  },
  {
   "cell_type": "code",
   "execution_count": 173,
   "metadata": {},
   "outputs": [],
   "source": [
    "### 4) Causal Structure: X <- Z -> Y"
   ]
  },
  {
   "cell_type": "code",
   "execution_count": 174,
   "metadata": {},
   "outputs": [
    {
     "name": "stderr",
     "output_type": "stream",
     "text": [
      "Setting feature_perturbation = \"tree_path_dependent\" because no background data was given.\n"
     ]
    },
    {
     "data": {
      "image/png": "[encoded data removed]",
      "text/plain": [
       "<Figure size 576x165.6 with 1 Axes>"
      ]
     },
     "metadata": {},
     "output_type": "display_data"
    }
   ],
   "source": [
    "df_feature = pd.DataFrame()\n",
    "\n",
    "df_feature['Z'] = asarray([normal(0,1) for x in range(0,100)])\n",
    "df_feature['X'] = asarray([normal(0,1) for x in range(0,100)]) + Z\n",
    "Y = asarray([1 if x > mean(df_feature['Z']) else 0 for x in df_feature['Z']])\n",
    "\n",
    "\n",
    "data = df_feature.values\n",
    "\n",
    "X_train, X_test, y_train, y_test = train_test_split(data, Y, test_size=0.1, random_state=42)\n",
    "model = RandomForestRegressor(max_depth=6, random_state=0, n_estimators=10)\n",
    "model.fit(X_train, y_train)\n",
    "shap_values = shap.TreeExplainer(model).shap_values(X_train)\n",
    "shap.summary_plot(shap_values, X_train, feature_names=['X','Z'], plot_type=\"bar\")"
   ]
  },
  {
   "cell_type": "markdown",
   "metadata": {},
   "source": [
    "## Discussion of Results\n",
    "\n",
    "TODO"
   ]
  },
  {
   "cell_type": "markdown",
   "metadata": {},
   "source": [
    "## Discussion of [FRYE2019ASYMMETRIC]\n",
    "\n",
    "TODO"
   ]
  },
  {
   "cell_type": "markdown",
   "metadata": {},
   "source": [
    "## References"
   ]
  },
  {
   "cell_type": "markdown",
   "metadata": {},
   "source": [
    "\n",
    "[PETERS2017ELEMENTS] Peters, Jonas, Dominik Janzing, and Bernhard Schölkopf. Elements of causal inference. The MIT Press, 2017.\n",
    "\n",
    "[LUNDBERG2017UNIFIED] Lundberg, Scott M., and Su-In Lee. \"A unified approach to interpreting model predictions.\" Advances in Neural Information Processing Systems. 2017\n",
    "\n",
    "[FRYE2019ASYMMETRIC] Frye, Christopher, Ilya Feige, and Colin Rowat. \"Asymmetric Shapley values: incorporating causal knowledge into model-agnostic explainability.\" arXiv preprint arXiv:1910.06358 (2019)."
   ]
  },
  {
   "cell_type": "code",
   "execution_count": null,
   "metadata": {},
   "outputs": [],
   "source": []
  }
 ],
 "metadata": {
  "kernelspec": {
   "display_name": "Python 3",
   "language": "python",
   "name": "python3"
  },
  "language_info": {
   "codemirror_mode": {
    "name": "ipython",
    "version": 3
   },
   "file_extension": ".py",
   "mimetype": "text/x-python",
   "name": "python",
   "nbconvert_exporter": "python",
   "pygments_lexer": "ipython3",
   "version": "3.6.3"
  }
 },
 "nbformat": 4,
 "nbformat_minor": 2
}
